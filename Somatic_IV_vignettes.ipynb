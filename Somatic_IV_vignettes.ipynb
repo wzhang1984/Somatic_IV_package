{
 "cells": [
  {
   "cell_type": "code",
   "execution_count": 1,
   "id": "aba134b6-ed95-4b03-86c5-a09b5270afe5",
   "metadata": {},
   "outputs": [],
   "source": [
    "import numpy as np\n",
    "import pandas as pd\n",
    "import networkx as nx\n",
    "import scipy\n",
    "from pathlib import Path\n",
    "from Somatic_IV import MR_Egger_model"
   ]
  },
  {
   "cell_type": "markdown",
   "id": "c5dda428-ccb3-416b-af2e-f88ca9c06d5f",
   "metadata": {},
   "source": [
    "#### Required R package: timereg"
   ]
  },
  {
   "cell_type": "markdown",
   "id": "fa9e6087-bd15-465e-bc7b-a16593d556c0",
   "metadata": {},
   "source": [
    "# Abstract\n",
    "Identifying causal drivers of cancer progression is crucial for developing effective anti-cancer therapies. However, disentangling causality from correlation remains challenging due to confounding factors within the complex genetic and transcriptomic landscapes of cancer.\n",
    "To address this challenge, we introduce the Somatic Instrumental Variable analysis (Somatic-IV), which integrates genetic, transcriptomic, and clinical outcome data to identify candidate driver genes likely playing a causal role in disease progression. Somatic-IV estimates genetic-exposure and genetic-outcome associations, utilizing MR-Egger regression to estimate bias-reduced causal effects. "
   ]
  },
  {
   "cell_type": "markdown",
   "id": "ade4483f-e95f-4836-ac33-efcfada601af",
   "metadata": {},
   "source": [
    "# Load data"
   ]
  },
  {
   "cell_type": "markdown",
   "id": "2c4f893e-62b3-4bcd-a9b6-758b8b43f8da",
   "metadata": {},
   "source": [
    "#### Load somatic alterations\n",
    "A patient-by-gene matrix ($G$) with mutation or CNA events (1) or WT (0)\n",
    "1. For putative oncogenes, only missense mutation and copy number amplification were considered as alterations\n",
    "2. For putative tumor suppressor, all non-silent mutations and deep deletion were considered as alterations"
   ]
  },
  {
   "cell_type": "code",
   "execution_count": 2,
   "id": "3d3c5155-5c1e-4f09-b5ea-ef26dd1d72bc",
   "metadata": {},
   "outputs": [],
   "source": [
    "mut_cn_mat = pd.read_csv('data/PAAD_mut_cn_mat.csv', index_col=0)"
   ]
  },
  {
   "cell_type": "markdown",
   "id": "40019c97-ab5c-4d78-94e6-01b28a1bc94f",
   "metadata": {},
   "source": [
    "#### Load inferred protein activities\n",
    "A patient-by-gene matrix ($X$) of inferred protein activity"
   ]
  },
  {
   "cell_type": "code",
   "execution_count": 3,
   "id": "54f3293c-fd28-43e5-9922-fd2cf9184ecf",
   "metadata": {},
   "outputs": [],
   "source": [
    "proteinActivity = pd.read_csv('data/PAAD_proteinActivity_allSamples_h1ARACNe.csv', index_col=0)"
   ]
  },
  {
   "cell_type": "markdown",
   "id": "4b6a5c4f-f65e-4b52-844f-8337c600dbe8",
   "metadata": {},
   "source": [
    "#### Load patient metadata\n",
    "A metadata with at least two columns \"event\" and \"time_to_event\" (i.e. patient outcomes $T$)  \n",
    "(\"time_delay_entry\" also required if \"delay_entry\" analysis is needed in the survival analysis)"
   ]
  },
  {
   "cell_type": "code",
   "execution_count": 4,
   "id": "de307920-117e-4bae-ad6b-48061e04a81a",
   "metadata": {},
   "outputs": [],
   "source": [
    "metadata = pd.read_csv('data/PAAD_metadata.csv', index_col=0)"
   ]
  },
  {
   "cell_type": "markdown",
   "id": "ba382e87-6121-4c76-94f7-884e3a5ebdb3",
   "metadata": {},
   "source": [
    "#### Load protein-protein interaction (PPI) network\n",
    "A PPI network with at least two columns \"Gene1\" and \"Gene2\"  \n",
    "The reference network (ReactomeFI) used in this viegnette was downloaded from here: https://reactome.org/download-data"
   ]
  },
  {
   "cell_type": "code",
   "execution_count": 5,
   "id": "dbbf1f8a-0a45-41b0-8916-408faafca508",
   "metadata": {},
   "outputs": [],
   "source": [
    "PPI = pd.read_csv('data/FIsInGene_122921_with_annotations.txt', sep='\\t')"
   ]
  },
  {
   "cell_type": "markdown",
   "id": "723ff23e-b08c-4f48-ab1e-fe5f038d018b",
   "metadata": {},
   "source": [
    "#### Set up additional arguments"
   ]
  },
  {
   "cell_type": "code",
   "execution_count": 6,
   "id": "f1a3e6fd-0a15-48f5-9b51-74aec8c5c213",
   "metadata": {},
   "outputs": [],
   "source": [
    "# Whether to consider delayed entry (left truncation) when running the Aalen additive hazard model\n",
    "delay_entry = False \n",
    "\n",
    "# Output dir\n",
    "output_dir = 'PAAD_PSD_MREgger'\n",
    "\n",
    "# Disease indication under investigation\n",
    "disease = 'PAAD'\n",
    "\n",
    "# Whether to trim TCGA sample IDs\n",
    "TCGA_process_ID = True\n",
    "\n",
    "# Number of cores used for multi processing\n",
    "n_process = 10\n",
    "\n",
    "# Lasso method: Choose from \"CV\" or \"BIC\"\n",
    "LASSO_method = 'CV'\n",
    "\n",
    "# (Optional) Covariates to include in the somatic-IV model \n",
    "covariates = []"
   ]
  },
  {
   "cell_type": "code",
   "execution_count": null,
   "id": "3384a844-01d3-4f27-ae27-0a67271eca58",
   "metadata": {},
   "outputs": [],
   "source": []
  },
  {
   "cell_type": "markdown",
   "id": "98a749fb-8947-4cdb-8c62-379da3f1a3b8",
   "metadata": {},
   "source": [
    "# Network propagation"
   ]
  },
  {
   "cell_type": "code",
   "execution_count": 7,
   "id": "fd1e41a8-d529-45e2-9e99-9aff3684715e",
   "metadata": {},
   "outputs": [],
   "source": [
    "## Adjacency matrix\n",
    "G = nx.from_pandas_edgelist(PPI, \n",
    "                            'Gene1', 'Gene2', edge_attr=True)\n",
    "A = nx.to_numpy_array(G)\n",
    "\n",
    "## Normalize by row sums\n",
    "row_sums = A.sum(axis=1)\n",
    "Q = A / row_sums\n",
    "\n",
    "## Compute a personalized page rank (PPR) matrix with a restart probability of 0.3\n",
    "rst_prob = 0.3\n",
    "n = Q.shape[0]\n",
    "PPR = rst_prob*scipy.linalg.inv(np.eye(n)-(1.-rst_prob)*Q)\n",
    "\n",
    "## Create a look up table for P0 of each gene\n",
    "nodes = list(G.nodes())\n",
    "gene2P0 = pd.DataFrame(np.eye(len(nodes)), index=nodes, columns=nodes)"
   ]
  },
  {
   "cell_type": "code",
   "execution_count": null,
   "id": "6475b2f1-b957-429b-b2bb-daa957d51d23",
   "metadata": {},
   "outputs": [],
   "source": []
  },
  {
   "cell_type": "markdown",
   "id": "893d52f9-7561-4049-95e6-cd74a991e73b",
   "metadata": {},
   "source": [
    "# Prepare input data"
   ]
  },
  {
   "cell_type": "code",
   "execution_count": 8,
   "id": "8023d4f0-1314-46f5-9360-d9b679ce4378",
   "metadata": {},
   "outputs": [],
   "source": [
    "genes_in_network = sorted(set(proteinActivity.index) & set(nodes))\n",
    "samples = sorted(set(mut_cn_mat.index) & set(proteinActivity.columns))\n",
    "IVs_in_network = sorted(set(mut_cn_mat.columns) & set(nodes))\n",
    "\n",
    "# X0 includes samples with matched WES and RNA-Seq data\n",
    "# X0_prime includes all samples with WES\n",
    "X0 = mut_cn_mat.loc[samples, IVs_in_network]\n",
    "X0_prime = mut_cn_mat.loc[:, IVs_in_network]\n",
    "\n",
    "Y = proteinActivity.loc[genes_in_network, samples].T\n",
    "Y = (Y-Y.mean())/Y.std()"
   ]
  },
  {
   "cell_type": "markdown",
   "id": "ee1d8bb1-9f59-48e7-bcff-51a88e170a63",
   "metadata": {},
   "source": [
    "#### Process TCGA patient IDs"
   ]
  },
  {
   "cell_type": "code",
   "execution_count": 9,
   "id": "50fb3261-5c84-4305-ac8c-ef65a9e8bb3f",
   "metadata": {},
   "outputs": [],
   "source": [
    "if TCGA_process_ID:\n",
    "    X0.index = X0.index.str[:12] # TCGA patient ID\n",
    "    X0 = X0.groupby(X0.index).max()\n",
    "    X0_prime.index = X0_prime.index.str[:12] # TCGA patient ID\n",
    "    X0_prime = X0_prime.groupby(X0_prime.index).max()\n",
    "    Y.index = Y.index.str[:12] # TCGA patient ID\n",
    "    Y = Y.groupby(Y.index).median()"
   ]
  },
  {
   "cell_type": "markdown",
   "id": "0969c823-cf6d-47f6-bac6-b18b36cda976",
   "metadata": {},
   "source": [
    "#### Create output Paths"
   ]
  },
  {
   "cell_type": "code",
   "execution_count": 10,
   "id": "5e707e7c-f048-4f0c-a444-5857fab32e4f",
   "metadata": {},
   "outputs": [],
   "source": [
    "Path(f'data/{output_dir}').mkdir(parents=True, exist_ok=True)\n",
    "Path('tmp').mkdir(parents=True, exist_ok=True)"
   ]
  },
  {
   "cell_type": "code",
   "execution_count": null,
   "id": "48651373-1588-4410-b5d4-7a1f75bf16d9",
   "metadata": {},
   "outputs": [],
   "source": []
  },
  {
   "attachments": {},
   "cell_type": "markdown",
   "id": "29126595-bdfb-4b0f-b52a-9f13a2941f0c",
   "metadata": {},
   "source": [
    "# Somatic-IV analysis\n",
    "- Step 1 (Multivariate model, Network-regularized Lasso): Select a set of genes with somatic alterations as IVs that are associated with PSD’s inferred protein activity  \n",
    "$X_i=\\gamma_0+\\sum^J_{j=1}\\gamma_jG_{ij}+\\epsilon^X_j$ (Eq. 1)\n",
    "- Step 2 (Univariate OLS): Test the association of each individual IV with PSD’s inferred protein activity  \n",
    "$X_i=\\gamma_0+\\gamma_jG_{ij}+\\epsilon^X_j$ (Eq. 2)\n",
    "- Step 3 (Aalen additive hazard model):  Test the association of each IV with patient outcomes  \n",
    "$h(t|G_{ij})=h_0(t)+\\Gamma_jG_{ij}$ (Eq. 3)\n",
    "- Step 4 (MR-Egger): Perform a weighted regression to estimate the causal effect  \n",
    "$\\hat{\\Gamma_j}=\\beta_{0E}+\\beta_E\\hat{\\gamma_j}$ (Eq. 4)  \n",
    "where the weights are given by $\\sigma_{Tj}^{-2}$ "
   ]
  },
  {
   "cell_type": "code",
   "execution_count": 11,
   "id": "550191ca-911f-4d6f-b608-2ad23234c466",
   "metadata": {},
   "outputs": [],
   "source": [
    "model = MR_Egger_model(output_dir, disease, genes_in_network, IVs_in_network, PPR, gene2P0, Y, X0, X0_prime, metadata, \n",
    "                       LASSO_method=LASSO_method, covariates=covariates)"
   ]
  },
  {
   "cell_type": "code",
   "execution_count": 12,
   "id": "2e168d3b-f36d-4365-84b7-d3610928f0c4",
   "metadata": {},
   "outputs": [
    {
     "name": "stdout",
     "output_type": "stream",
     "text": [
      "# Calculating IV weights\n",
      "# 1. IV selection: Regulator-IVs (multivariate model)\n",
      "            MSE     score         F   k\n",
      "0                                      \n",
      "A1CF   0.960393  0.115234  3.473127   6\n",
      "AAK1   0.995990  0.180194  3.428891  10\n",
      "AATF   0.968193  0.182909  2.872787  12\n",
      "ABCA1  1.077047  0.000000       NaN   0\n",
      "ABCA7  1.158281  0.000000  0.000000   1\n",
      "# 2. BetaXG: Regulator-IV Associations (univariate OLS)\n",
      "          coef  std err      t  P>|t|  [0.025  0.975]  F-statistic Regulator\n",
      "BCL6   -0.6850    0.384 -1.786  0.076  -1.442   0.072       3.1880      A1CF\n",
      "CDKN2A -0.4733    0.151 -3.137  0.002  -0.771  -0.175       9.8420      A1CF\n",
      "DDR2    0.3455    0.299  1.154  0.250  -0.246   0.936       1.3320      A1CF\n",
      "KAT6A   0.1906    0.363  0.525  0.600  -0.526   0.908       0.2754      A1CF\n",
      "SMAD4  -0.3420    0.158 -2.166  0.032  -0.654  -0.030       4.6900      A1CF\n",
      "# Build input data for the Aalen model\n",
      "# 3. BetaYG: Survival-IV Associations (univariate Aalen model)\n"
     ]
    },
    {
     "name": "stderr",
     "output_type": "stream",
     "text": [
      "Loading required package: survival\n"
     ]
    },
    {
     "name": "stdout",
     "output_type": "stream",
     "text": [
      "           coef  std err       z  P-val\n",
      "ABL2    0.00106   0.0111  0.0951  0.924\n",
      "AKT2    0.02830   0.0184  1.5300  0.125\n",
      "ARID1A  0.00413   0.0175  0.2360  0.813\n",
      "ARNT   -0.00871   0.0106 -0.8220  0.411\n",
      "ATM    -0.00502   0.0157 -0.3200  0.749\n",
      "# 4. MR-Egger regression\n",
      "            Beta_0E    Beta_E  Beta_0E_SE  Beta_E_SE  Beta_0E_025  \\\n",
      "Regulator                                                           \n",
      "PITPNC1    0.029438 -0.080872    0.006606   0.013709     0.015559   \n",
      "PRKAR2B    0.039451 -0.098539    0.012843   0.022450     0.011184   \n",
      "PPARG     -0.012890  0.041703    0.006202   0.010161    -0.026288   \n",
      "SMURF1    -0.021189  0.058727    0.008515   0.014564    -0.039932   \n",
      "HMGA2     -0.005928  0.036544    0.005707   0.010194    -0.018026   \n",
      "\n",
      "           Beta_0E_975  Beta_E_025  Beta_E_975  Beta_0E_t  Beta_E_t  \\\n",
      "Regulator                                                             \n",
      "PITPNC1       0.043317   -0.109673   -0.052070   4.456170 -5.899115   \n",
      "PRKAR2B       0.067718   -0.147950   -0.049127   3.071854 -4.389290   \n",
      "PPARG         0.000507    0.019751    0.063656  -2.078589  4.104076   \n",
      "SMURF1       -0.002447    0.026673    0.090782  -2.488383  4.032474   \n",
      "HMGA2         0.006171    0.014935    0.058153  -1.038669  3.585011   \n",
      "\n",
      "           Beta_0E_p  Beta_E_p  nIVs  \\\n",
      "Regulator                              \n",
      "PITPNC1     0.000305  0.000014    20   \n",
      "PRKAR2B     0.010625  0.001082    13   \n",
      "PPARG       0.058021  0.001244    15   \n",
      "SMURF1      0.030122  0.001974    13   \n",
      "HMGA2       0.314401  0.002476    18   \n",
      "\n",
      "                                                         IVs  \\\n",
      "Regulator                                                      \n",
      "PITPNC1    MDM2, GNAS, ERBB2, KRAS, TGFBR2, SMAD4, TRRAP,...   \n",
      "PRKAR2B    PIK3CA, KRAS, MDM2, CDKN2A, ERBB2, SMAD4, FGFR...   \n",
      "PPARG      KRAS, CDKN2A, SMAD4, TP53, TRRAP, CDK6, TGFBR2...   \n",
      "SMURF1     KRAS, CDK6, CDKN2A, TP53, NTRK3, SMAD4, RNF43,...   \n",
      "HMGA2      KRAS, BCL6, CDKN2A, MDM2, TP53, TRRAP, CDK6, M...   \n",
      "\n",
      "                                                   IVs_coefs  Beta_E_fdr  \n",
      "Regulator                                                                 \n",
      "PITPNC1    0.86, 0.83, 0.66, 0.57, 0.55, 0.54, 0.53, 0.50...    0.016916  \n",
      "PRKAR2B    0.85, 0.73, 0.70, 0.61, 0.56, 0.56, 0.55, 0.52...    0.224861  \n",
      "PPARG      0.86, 0.75, 0.74, 0.72, 0.56, 0.50, 0.38, 0.37...    0.224861  \n",
      "SMURF1     0.78, 0.74, 0.67, 0.66, 0.59, 0.54, 0.52, 0.44...    0.224861  \n",
      "HMGA2      0.89, 0.79, 0.70, 0.70, 0.69, 0.63, 0.55, 0.43...    0.224861  \n"
     ]
    }
   ],
   "source": [
    "MREggerResults = model.fit(n=n_process)"
   ]
  },
  {
   "cell_type": "markdown",
   "id": "cf303cde-be8f-47d9-bc45-b29dcb15b9f2",
   "metadata": {},
   "source": [
    "#### Results are saved in \"data/PAAD_PSD_MREgger\""
   ]
  },
  {
   "cell_type": "code",
   "execution_count": null,
   "id": "a35edcf9-b966-4ba9-95d5-8dd8a877f820",
   "metadata": {},
   "outputs": [],
   "source": []
  },
  {
   "cell_type": "markdown",
   "id": "b103978f-f5ea-4f04-9f0c-fb70a605a291",
   "metadata": {},
   "source": [
    "# Visualization"
   ]
  },
  {
   "cell_type": "code",
   "execution_count": 13,
   "id": "4f96461d-dae5-4d82-bcfe-31490f55d790",
   "metadata": {},
   "outputs": [],
   "source": [
    "from scipy.stats import t\n",
    "import statsmodels.api as sm\n",
    "\n",
    "import matplotlib.pyplot as plt\n",
    "import seaborn as sns\n",
    "%matplotlib inline\n",
    "\n",
    "from adjustText import adjust_text\n",
    "import matplotlib.ticker as mtick"
   ]
  },
  {
   "cell_type": "markdown",
   "id": "5190eb48-3e0a-4c49-b3a7-691c4846668b",
   "metadata": {},
   "source": [
    "#### Set up running parameters"
   ]
  },
  {
   "cell_type": "code",
   "execution_count": 14,
   "id": "c7a40ac3-4767-4252-9219-ac602a500de4",
   "metadata": {},
   "outputs": [],
   "source": [
    "gene = 'ZBED2'\n",
    "output_dir = 'PAAD_PSD_MREgger'\n",
    "disease = 'PAAD'"
   ]
  },
  {
   "cell_type": "markdown",
   "id": "5b1c0f12-4aa6-4b64-8090-3c40951931c4",
   "metadata": {},
   "source": [
    "#### This function performs MR-Egger regression based on summary statistics"
   ]
  },
  {
   "cell_type": "code",
   "execution_count": 15,
   "id": "ce0510be-c994-419c-923c-7146d18bb3e6",
   "metadata": {},
   "outputs": [],
   "source": [
    "def MR_Egger_regression(lm_XG, lm_YG):\n",
    "    BetaYG = lm_YG.loc[:, 'coef']\n",
    "    BetaXG = lm_XG.loc[:, 'coef']\n",
    "    seBetaYG = lm_YG.loc[:, 'std err']\n",
    "    seBetaXG = lm_XG.loc[:, 'std err']\n",
    "    \n",
    "    BYG = BetaYG*np.sign(BetaXG) \n",
    "    BXG = abs(BetaXG)\n",
    "    BXG = sm.add_constant(BXG)\n",
    "    \n",
    "    md = sm.WLS(BYG, BXG, weights=1/seBetaYG**2)\n",
    "    mdf = md.fit()\n",
    "    \n",
    "    MREggerBeta0 = mdf.params[0]\n",
    "    MREggerBeta1 = mdf.params[1]\n",
    "    SE0 = mdf.bse[0]/min(1, np.sqrt(mdf.scale))\n",
    "    SE1 = mdf.bse[1]/min(1, np.sqrt(mdf.scale))\n",
    "    DF = len(BetaYG)-2\n",
    "    \n",
    "    MRBeta0_p = 2*(1-t.cdf(abs(MREggerBeta0/SE0),DF))\n",
    "    MRBeta1_p = 2*(1-t.cdf(abs(MREggerBeta1/SE1),DF))\n",
    "    MRBeta0_CI = MREggerBeta0 + np.array([-1,1])*t.ppf(0.975, df=DF)*SE0\n",
    "    MRBeta1_CI = MREggerBeta1 + np.array([-1,1])*t.ppf(0.975, df=DF)*SE1\n",
    "    \n",
    "\n",
    "    MREggerResults = pd.DataFrame([MREggerBeta0, MREggerBeta1, SE0, SE1, MRBeta0_CI[0], MRBeta0_CI[1], MRBeta1_CI[0], MRBeta1_CI[1], \n",
    "                                   MREggerBeta0/SE0, MREggerBeta1/SE1, MRBeta0_p, MRBeta1_p]).T\n",
    "    MREggerResults.columns = ['Beta_0E', 'Beta_E', 'Beta_0E_SE', 'Beta_E_SE', 'Beta_0E_025', 'Beta_0E_975', 'Beta_E_025', 'Beta_E_975', \n",
    "                                         'Beta_0E_t', 'Beta_E_t', 'Beta_0E_p', 'Beta_E_p']\n",
    "    \n",
    "    MREggerData = pd.concat([BXG['coef'], BYG, 1/seBetaYG**2, seBetaXG, seBetaYG, BetaXG], axis=1)\n",
    "    MREggerData.columns=['BXG', 'BYG', 'Weight', 'seBetaXG', 'seBetaYG', 'BetaXG']\n",
    "    \n",
    "    return MREggerResults, MREggerData"
   ]
  },
  {
   "cell_type": "markdown",
   "id": "eb4f2899-d896-4bce-a263-960dea2a338c",
   "metadata": {},
   "source": [
    "#### Load summary statistics"
   ]
  },
  {
   "cell_type": "code",
   "execution_count": 18,
   "id": "325b059a-cdff-4722-ac49-939ab95eaa6b",
   "metadata": {},
   "outputs": [],
   "source": [
    "lm_XG = pd.read_csv('data/{}/{}_OLS_XG.csv'.format(output_dir, disease), index_col=0)\n",
    "lm_XG = lm_XG.loc[lm_XG['Regulator']==gene]\n",
    "lm_YG = pd.read_csv('data/{}/{}_Aalen_TG.csv'.format(output_dir, disease), index_col=0)\n",
    "lm_YG = lm_YG.loc[lm_YG['std err']>0]\n",
    "index = lm_XG.index.intersection(lm_YG.index)"
   ]
  },
  {
   "cell_type": "markdown",
   "id": "a5b9740a-643e-4d26-b43f-c0a426cc9dc4",
   "metadata": {},
   "source": [
    "#### Perform MR-Egger on a single gene and visualize result"
   ]
  },
  {
   "cell_type": "code",
   "execution_count": 19,
   "id": "21de77fa-6d75-4c53-b374-400b547e4621",
   "metadata": {},
   "outputs": [],
   "source": [
    "MREggerResults, MREggerData = MR_Egger_regression(lm_XG.loc[index], lm_YG.loc[index])"
   ]
  },
  {
   "cell_type": "code",
   "execution_count": 20,
   "id": "72c697f5-28be-431f-a2d1-2a21ee859294",
   "metadata": {},
   "outputs": [
    {
     "data": {
      "text/html": [
       "<div>\n",
       "<style scoped>\n",
       "    .dataframe tbody tr th:only-of-type {\n",
       "        vertical-align: middle;\n",
       "    }\n",
       "\n",
       "    .dataframe tbody tr th {\n",
       "        vertical-align: top;\n",
       "    }\n",
       "\n",
       "    .dataframe thead th {\n",
       "        text-align: right;\n",
       "    }\n",
       "</style>\n",
       "<table border=\"1\" class=\"dataframe\">\n",
       "  <thead>\n",
       "    <tr style=\"text-align: right;\">\n",
       "      <th></th>\n",
       "      <th>Beta_0E</th>\n",
       "      <th>Beta_E</th>\n",
       "      <th>Beta_0E_SE</th>\n",
       "      <th>Beta_E_SE</th>\n",
       "      <th>Beta_0E_025</th>\n",
       "      <th>Beta_0E_975</th>\n",
       "      <th>Beta_E_025</th>\n",
       "      <th>Beta_E_975</th>\n",
       "      <th>Beta_0E_t</th>\n",
       "      <th>Beta_E_t</th>\n",
       "      <th>Beta_0E_p</th>\n",
       "      <th>Beta_E_p</th>\n",
       "    </tr>\n",
       "  </thead>\n",
       "  <tbody>\n",
       "    <tr>\n",
       "      <th>ZBED2</th>\n",
       "      <td>-0.009889</td>\n",
       "      <td>0.042906</td>\n",
       "      <td>0.007434</td>\n",
       "      <td>0.012708</td>\n",
       "      <td>-0.025949</td>\n",
       "      <td>0.006171</td>\n",
       "      <td>0.015451</td>\n",
       "      <td>0.070361</td>\n",
       "      <td>-1.330287</td>\n",
       "      <td>3.37621</td>\n",
       "      <td>0.20629</td>\n",
       "      <td>0.004964</td>\n",
       "    </tr>\n",
       "  </tbody>\n",
       "</table>\n",
       "</div>"
      ],
      "text/plain": [
       "        Beta_0E    Beta_E  Beta_0E_SE  Beta_E_SE  Beta_0E_025  Beta_0E_975  \\\n",
       "ZBED2 -0.009889  0.042906    0.007434   0.012708    -0.025949     0.006171   \n",
       "\n",
       "       Beta_E_025  Beta_E_975  Beta_0E_t  Beta_E_t  Beta_0E_p  Beta_E_p  \n",
       "ZBED2    0.015451    0.070361  -1.330287   3.37621    0.20629  0.004964  "
      ]
     },
     "execution_count": 20,
     "metadata": {},
     "output_type": "execute_result"
    }
   ],
   "source": [
    "MREggerResults.index = [gene]\n",
    "MREggerResults"
   ]
  },
  {
   "cell_type": "code",
   "execution_count": 27,
   "id": "c201cf7e-39e5-4680-9d56-97163924fe26",
   "metadata": {},
   "outputs": [
    {
     "data": {
      "image/png": "[encoded data removed]",
      "text/plain": [
       "<Figure size 700x700 with 1 Axes>"
      ]
     },
     "metadata": {},
     "output_type": "display_data"
    }
   ],
   "source": [
    "fig, ax = plt.subplots(figsize=(7, 7), dpi=100)\n",
    "ax = sns.scatterplot(x='BXG', y='BYG', data=MREggerData, alpha=0.7, color='grey')\n",
    "plt.plot([-0.1, MREggerData['BXG'].max()+0.1], \n",
    "         [MREggerResults.loc[gene, 'Beta_0E']-MREggerResults.loc[gene, 'Beta_E']*0.1, \n",
    "          MREggerResults.loc[gene, 'Beta_0E']+MREggerResults.loc[gene, 'Beta_E']*(MREggerData['BXG'].max()+0.1)], \n",
    "         linestyle='--', color='red', alpha=0.7)\n",
    "    \n",
    "texts = []\n",
    "for index, row in MREggerData.iterrows():\n",
    "    texts.append(ax.text(row['BXG'], row['BYG'], str(index), ha='center'))\n",
    "    plt.plot([row['BXG']-row['seBetaXG'], row['BXG']+row['seBetaXG']], [row['BYG'], row['BYG']], color='grey', lw=0.5, alpha=0.7)\n",
    "    plt.plot([row['BXG'], row['BXG']], [row['BYG']-row['seBetaYG'], row['BYG']+row['seBetaYG']], color='grey', lw=0.5, alpha=0.7)\n",
    "\n",
    "adjust_text(texts, arrowprops=dict(arrowstyle=\"-\", color='grey', lw=0.5))\n",
    "plt.savefig('data/{}/{}_{}_MREgger_plot.PDF'.format(output_dir, disease, gene))"
   ]
  },
  {
   "cell_type": "code",
   "execution_count": null,
   "id": "f9fdc924-9fa2-44ac-a039-534bac1f8461",
   "metadata": {},
   "outputs": [],
   "source": []
  },
  {
   "cell_type": "code",
   "execution_count": null,
   "id": "8aa3a587-8ea9-4eee-866c-90e491781266",
   "metadata": {},
   "outputs": [],
   "source": []
  }
 ],
 "metadata": {
  "kernelspec": {
   "display_name": "Python 3 (ipykernel)",
   "language": "python",
   "name": "python3"
  },
  "language_info": {
   "codemirror_mode": {
    "name": "ipython",
    "version": 3
   },
   "file_extension": ".py",
   "mimetype": "text/x-python",
   "name": "python",
   "nbconvert_exporter": "python",
   "pygments_lexer": "ipython3",
   "version": "3.11.9"
  }
 },
 "nbformat": 4,
 "nbformat_minor": 5
}
